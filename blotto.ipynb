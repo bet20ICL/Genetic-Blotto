{
 "cells": [
  {
   "cell_type": "code",
   "execution_count": 5,
   "metadata": {},
   "outputs": [],
   "source": [
    "import numpy as np"
   ]
  },
  {
   "cell_type": "code",
   "execution_count": 2,
   "metadata": {},
   "outputs": [],
   "source": [
    "class strategy():\n",
    "    def __init__(self):\n",
    "        self.allocation = np.zeros(10)\n",
    "        self.score\n",
    "    \n",
    "    def allocate(self, weights=None):\n",
    "        "
   ]
  },
  {
   "cell_type": "code",
   "execution_count": 3,
   "metadata": {},
   "outputs": [],
   "source": [
    "def fight(strat_a, strat_b):\n",
    "    for i in range(10):\n",
    "        if strat_a.allocation[i] > strat_b.allocation[i]:\n",
    "            strat_a.score += i + 1\n",
    "        elif strat_a.allocation[i] < strat_b.allocation[i]:\n",
    "            strat_b.score += i + 1"
   ]
  },
  {
   "cell_type": "code",
   "execution_count": null,
   "metadata": {},
   "outputs": [],
   "source": [
    "uniform_strat = strategy()\n",
    "head_heavy_strat = strategy()\n",
    "\n",
    "uniform_strat"
   ]
  }
 ],
 "metadata": {
  "interpreter": {
   "hash": "e594a9faf4fad56d78066f4a0a9bcd338e5186380f82cf58b5af7167cdce74a1"
  },
  "kernelspec": {
   "display_name": "Python 3.9.7 ('trading')",
   "language": "python",
   "name": "python3"
  },
  "language_info": {
   "codemirror_mode": {
    "name": "ipython",
    "version": 3
   },
   "file_extension": ".py",
   "mimetype": "text/x-python",
   "name": "python",
   "nbconvert_exporter": "python",
   "pygments_lexer": "ipython3",
   "version": "3.9.7"
  },
  "orig_nbformat": 4
 },
 "nbformat": 4,
 "nbformat_minor": 2
}
